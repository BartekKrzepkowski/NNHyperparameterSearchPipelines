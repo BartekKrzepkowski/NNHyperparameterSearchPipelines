{
 "cells": [
  {
   "cell_type": "code",
   "execution_count": 1,
   "id": "d1569d32-49b8-47e9-986c-d79ed942e938",
   "metadata": {},
   "outputs": [],
   "source": [
    "%load_ext autoreload\n",
    "%autoreload 2\n",
    "%load_ext tensorboard"
   ]
  },
  {
   "cell_type": "code",
   "execution_count": 2,
   "id": "fc444c4a-e269-4330-aee6-fbed77257a8d",
   "metadata": {},
   "outputs": [
    {
     "data": {
      "text/plain": [
       "device(type='cuda')"
      ]
     },
     "execution_count": 2,
     "metadata": {},
     "output_type": "execute_result"
    }
   ],
   "source": [
    "import torch\n",
    "\n",
    "device = torch.device(\"cuda\" if torch.cuda.is_available() else \"cpu\")\n",
    "device"
   ]
  },
  {
   "cell_type": "markdown",
   "id": "ddf41d02-b7ab-4880-b63d-140d033e1093",
   "metadata": {
    "tags": []
   },
   "source": [
    "# Model"
   ]
  },
  {
   "cell_type": "code",
   "execution_count": null,
   "id": "fbc6e302-a0c5-4acb-8111-7e74ed28794c",
   "metadata": {},
   "outputs": [],
   "source": [
    "# #model\n",
    "# from src.models.resnets import ResNet18\n",
    "\n",
    "# NUM_CLASSES = 10\n",
    "# model = ResNet18(num_classes=NUM_CLASSES).to(device)"
   ]
  },
  {
   "cell_type": "code",
   "execution_count": 5,
   "id": "4c86e001-5453-4cda-adc0-05e4a48a7c03",
   "metadata": {},
   "outputs": [],
   "source": [
    "from src.models.models import MLP\n",
    "\n",
    "NUM_FEATURES = 32 * 32 * 3\n",
    "NUM_CLASSES = 10\n",
    "DIMS = [NUM_FEATURES, 512, NUM_CLASSES]\n",
    "\n",
    "model = MLP(DIMS, 'relu').to(device)"
   ]
  },
  {
   "cell_type": "markdown",
   "id": "096b69ab-2dd6-4309-a535-4f3646e882b1",
   "metadata": {
    "tags": []
   },
   "source": [
    "# Criterion"
   ]
  },
  {
   "cell_type": "code",
   "execution_count": 6,
   "id": "a5d03cd3-4ad6-4b89-a863-44bc3aeb3770",
   "metadata": {},
   "outputs": [],
   "source": [
    "from src.common.common import LOSS_NAME_MAP\n",
    "from src.models.losses import ClassificationLoss, FERLOSS\n",
    "\n",
    "# criterion = ClassificationLoss(LOSS_NAME_MAP['ce']())\n",
    "criterion = FERLOSS(model, 'ce', NUM_CLASSES).to(device)"
   ]
  },
  {
   "cell_type": "markdown",
   "id": "e607a3b6-8fa5-422a-adbc-1c9dc83b7a09",
   "metadata": {},
   "source": [
    "# Dataset"
   ]
  },
  {
   "cell_type": "code",
   "execution_count": 7,
   "id": "37d21531-cfcb-4e44-9890-e52b575a104c",
   "metadata": {},
   "outputs": [
    {
     "name": "stdout",
     "output_type": "stream",
     "text": [
      "Files already downloaded and verified\n",
      "Files already downloaded and verified\n",
      "Files already downloaded and verified\n"
     ]
    }
   ],
   "source": [
    "from torch.utils.data import DataLoader\n",
    "from src.data.datasets import get_cifar10\n",
    "\n",
    "train_dataset, _, test_dataset = get_cifar10('data/')\n",
    "\n",
    "BATCH_SIZE = 64\n",
    "\n",
    "train_loader = DataLoader(train_dataset, batch_size=BATCH_SIZE, shuffle=True, pin_memory=True, num_workers=4)\n",
    "test_loader = DataLoader(test_dataset, batch_size=BATCH_SIZE, shuffle=False, pin_memory=True, num_workers=4)\n",
    "\n",
    "loaders = {\n",
    "    'train': train_loader,\n",
    "    'test': test_loader\n",
    "}"
   ]
  },
  {
   "cell_type": "markdown",
   "id": "15d9df17-3d8c-41f8-a2b5-b2f8deb1f7cd",
   "metadata": {
    "tags": []
   },
   "source": [
    "# Optimizer"
   ]
  },
  {
   "cell_type": "code",
   "execution_count": 8,
   "id": "4b01ae97-4951-4fae-bc89-fcab894475f1",
   "metadata": {},
   "outputs": [],
   "source": [
    "from src.common.common import OPTIMIZER_NAME_MAP, SCHEDULER_NAME_MAP\n",
    "from src.common.utils import prepare_optim_and_scheduler\n",
    "\n",
    "GRAD_ACCUM_STEPS = 1\n",
    "EPOCHS = 100\n",
    "T_max = (len(train_loader) // GRAD_ACCUM_STEPS) * EPOCHS\n",
    "\n",
    "optim_params = {'lr': 0.01, 'weight_decay': 0.001}\n",
    "scheduler_params = {'T_max': T_max, 'eta_min': 1e-6}\n",
    "\n",
    "# optim, lr_scheduler = prepare_optim_and_scheduler(model, 'adamw', 'cosine', optim_params, scheduler_params, whether_exclude=False)\n",
    "\n",
    "optim = OPTIMIZER_NAME_MAP['sgd'](filter(lambda p: p.requires_grad, model.parameters()), **optim_params)\n",
    "lr_scheduler = None #SCHEDULER_NAME_MAP['cosine'](optim, **scheduler_params)"
   ]
  },
  {
   "cell_type": "code",
   "execution_count": 2,
   "id": "40d0d194-d457-40bc-8947-af72967b51cd",
   "metadata": {
    "tags": []
   },
   "outputs": [
    {
     "data": {
      "text/html": [
       "\n",
       "      <iframe id=\"tensorboard-frame-912de3040f1e8f3a\" width=\"100%\" height=\"800\" frameborder=\"0\">\n",
       "      </iframe>\n",
       "      <script>\n",
       "        (function() {\n",
       "          const frame = document.getElementById(\"tensorboard-frame-912de3040f1e8f3a\");\n",
       "          const url = new URL(\"/\", window.location);\n",
       "          const port = 6006;\n",
       "          if (port) {\n",
       "            url.port = port;\n",
       "          }\n",
       "          frame.src = url;\n",
       "        })();\n",
       "      </script>\n",
       "    "
      ],
      "text/plain": [
       "<IPython.core.display.HTML object>"
      ]
     },
     "metadata": {},
     "output_type": "display_data"
    }
   ],
   "source": [
    "%tensorboard --logdir=reports/optuna_lr_wd__mlp_sgd_"
   ]
  },
  {
   "cell_type": "markdown",
   "id": "a64e4b4f-b752-4c0a-b0be-26df02461c8b",
   "metadata": {},
   "source": [
    "# Trainer"
   ]
  },
  {
   "cell_type": "code",
   "execution_count": 10,
   "id": "873ab935-2b9e-48ab-89f8-ba2bd1b97b73",
   "metadata": {
    "tags": []
   },
   "outputs": [],
   "source": [
    "from src.trainer.trainer_classification import TrainerClassification\n",
    "\n",
    "params_trainer = {\n",
    "    'model': model,\n",
    "    'criterion': criterion,\n",
    "    'loaders': loaders,\n",
    "    'optim': optim,\n",
    "    'lr_scheduler': lr_scheduler,\n",
    "}\n",
    "\n",
    "trainer = TrainerClassification(**params_trainer)"
   ]
  },
  {
   "cell_type": "code",
   "execution_count": 11,
   "id": "03618ee0-6a6f-4097-baba-5bffc677bef8",
   "metadata": {},
   "outputs": [
    {
     "name": "stderr",
     "output_type": "stream",
     "text": [
      "run_epoch: train: 100%|█| 782/782 [00:08<00:00, 88      | 0/100 [00:00<?, ?it/s]\n",
      "run_epoch: test: 100%|█| 157/157 [00:00<00:00, 174\n",
      "run_epoch: train: 100%|█| 782/782 [00:08<00:00, 921/100 [00:09<15:59,  9.69s/it]\n",
      "run_epoch: test: 100%|█| 157/157 [00:00<00:00, 164\n",
      "run_epoch: train: 100%|█| 782/782 [00:09<00:00, 862/100 [00:19<15:35,  9.54s/it]\n",
      "run_epoch: test: 100%|█| 157/157 [00:00<00:00, 170\n",
      "run_epoch: train: 100%|█| 782/782 [00:08<00:00, 883/100 [00:29<15:45,  9.75s/it]\n",
      "run_epoch: test: 100%|█| 157/157 [00:00<00:00, 169\n",
      "run_epoch: train: 100%|█| 782/782 [00:08<00:00, 904/100 [00:38<15:34,  9.74s/it]\n",
      "run_epoch: test: 100%|█| 157/157 [00:00<00:00, 172\n",
      "run_epoch: train: 100%|█| 782/782 [00:08<00:00, 925/100 [00:48<15:20,  9.69s/it]\n",
      "run_epoch: test: 100%|█| 157/157 [00:00<00:00, 177\n",
      "run_epoch: train: 100%|█| 782/782 [00:09<00:00, 856/100 [00:57<15:00,  9.58s/it]\n",
      "run_epoch: test: 100%|█| 157/157 [00:00<00:00, 174\n",
      "run_epoch: train: 100%|█| 782/782 [00:08<00:00, 937/100 [01:07<15:06,  9.74s/it]\n",
      "run_epoch: test: 100%|█| 157/157 [00:00<00:00, 176\n",
      "run_epoch: train: 100%|█| 782/782 [00:08<00:00, 918/100 [01:17<14:41,  9.58s/it]\n",
      "run_epoch: test: 100%|█| 157/157 [00:00<00:00, 173\n",
      "run_epoch: train: 100%|█| 782/782 [00:08<00:00, 919/100 [01:26<14:27,  9.53s/it]\n",
      "run_epoch: test: 100%|█| 157/157 [00:00<00:00, 178\n",
      "run_epoch: train: 100%|█| 782/782 [00:08<00:00, 900/100 [01:36<14:15,  9.51s/it]\n",
      "run_epoch: test: 100%|█| 157/157 [00:00<00:00, 181\n",
      "run_epoch: train: 100%|█| 782/782 [00:08<00:00, 901/100 [01:45<14:05,  9.50s/it]\n",
      "run_epoch: test: 100%|█| 157/157 [00:00<00:00, 173\n",
      "run_epoch: train: 100%|█| 782/782 [00:08<00:00, 892/100 [01:55<13:57,  9.52s/it]\n",
      "run_epoch: test: 100%|█| 157/157 [00:00<00:00, 171\n",
      "run_epoch: train: 100%|█| 782/782 [00:09<00:00, 863/100 [02:04<13:51,  9.56s/it]\n",
      "run_epoch: test: 100%|█| 157/157 [00:00<00:00, 171\n",
      "run_epoch: train: 100%|█| 782/782 [00:09<00:00, 864/100 [02:14<13:52,  9.69s/it]\n",
      "run_epoch: test: 100%|█| 157/157 [00:00<00:00, 171\n",
      "run_epoch: train: 100%|█| 782/782 [00:08<00:00, 895/100 [02:24<13:51,  9.78s/it]\n",
      "run_epoch: test: 100%|█| 157/157 [00:00<00:00, 168\n",
      "run_epoch: train: 100%|█| 782/782 [00:08<00:00, 876/100 [02:34<13:39,  9.75s/it]\n",
      "run_epoch: test: 100%|█| 157/157 [00:00<00:00, 167\n",
      "run_epoch: train: 100%|█| 782/782 [00:08<00:00, 897/100 [02:44<13:31,  9.78s/it]\n",
      "run_epoch: test: 100%|█| 157/157 [00:00<00:00, 169\n",
      "run_epoch: train: 100%|█| 782/782 [00:08<00:00, 888/100 [02:53<13:19,  9.75s/it]\n",
      "run_epoch: test: 100%|█| 157/157 [00:00<00:00, 171\n",
      "run_epoch: train: 100%|█| 782/782 [00:08<00:00, 889/100 [03:03<13:11,  9.77s/it]\n",
      "run_epoch: test: 100%|█| 157/157 [00:00<00:00, 171\n",
      "run_epoch: train: 100%|█| 782/782 [00:09<00:00, 860/100 [03:13<13:00,  9.75s/it]\n",
      "run_epoch: test: 100%|█| 157/157 [00:00<00:00, 167\n",
      "run_epoch: train: 100%|█| 782/782 [00:08<00:00, 871/100 [03:23<12:55,  9.82s/it]\n",
      "run_epoch: test: 100%|█| 157/157 [00:00<00:00, 165\n",
      "run_epoch: train: 100%|█| 782/782 [00:09<00:00, 862/100 [03:33<12:48,  9.85s/it]\n",
      "run_epoch: test: 100%|█| 157/157 [00:00<00:00, 170\n",
      "run_epoch: train: 100%|█| 782/782 [00:09<00:00, 863/100 [03:43<12:40,  9.88s/it]\n",
      "run_epoch: test: 100%|█| 157/157 [00:00<00:00, 166\n",
      "run_epoch: train: 100%|█| 782/782 [00:08<00:00, 884/100 [03:53<12:33,  9.91s/it]\n",
      "run_epoch: test: 100%|█| 157/157 [00:00<00:00, 161\n",
      "run_epoch: train: 100%|█| 782/782 [00:09<00:00, 865/100 [04:03<12:21,  9.89s/it]\n",
      "run_epoch: test: 100%|█| 157/157 [00:00<00:00, 164\n",
      "run_epoch: train: 100%|█| 782/782 [00:09<00:00, 806/100 [04:13<12:15,  9.94s/it]\n",
      "run_epoch: test: 100%|█| 157/157 [00:01<00:00, 139\n",
      "run_epoch: train: 100%|█| 782/782 [00:09<00:00, 797/100 [04:24<12:25, 10.21s/it]\n",
      "run_epoch: test: 100%|█| 157/157 [00:00<00:00, 164\n",
      "run_epoch: train: 100%|█| 782/782 [00:08<00:00, 868/100 [04:34<12:28, 10.39s/it]\n",
      "run_epoch: test: 100%|█| 157/157 [00:00<00:00, 162\n",
      "run_epoch: train: 100%|█| 782/782 [00:09<00:00, 839/100 [04:44<12:08, 10.27s/it]\n",
      "run_epoch: test: 100%|█| 157/157 [00:00<00:00, 165\n",
      "run_epoch: train: 100%|█| 782/782 [00:09<00:00, 790/100 [04:55<11:59, 10.28s/it]\n",
      "run_epoch: test: 100%|█| 157/157 [00:00<00:00, 168\n",
      "run_epoch: train: 100%|█| 782/782 [00:09<00:00, 861/100 [05:05<11:58, 10.42s/it]\n",
      "run_epoch: test: 100%|█| 157/157 [00:00<00:00, 167\n",
      "run_epoch: train: 100%|█| 782/782 [00:09<00:00, 862/100 [05:15<11:39, 10.29s/it]\n",
      "run_epoch: test: 100%|█| 157/157 [00:00<00:00, 163\n",
      "run_epoch: train: 100%|█| 782/782 [00:09<00:00, 863/100 [05:25<11:24, 10.21s/it]\n",
      "run_epoch: test: 100%|█| 157/157 [00:00<00:00, 165\n",
      "run_epoch: train: 100%|█| 782/782 [00:09<00:00, 854/100 [05:35<11:10, 10.16s/it]\n",
      "run_epoch: test: 100%|█| 157/157 [00:00<00:00, 162\n",
      "run_epoch: train: 100%|█| 782/782 [00:09<00:00, 855/100 [05:46<10:59, 10.14s/it]\n",
      "run_epoch: test: 100%|█| 157/157 [00:00<00:00, 167\n",
      "run_epoch: train: 100%|█| 782/782 [00:09<00:00, 836/100 [05:56<10:48, 10.13s/it]\n",
      "run_epoch: test: 100%|█| 157/157 [00:00<00:00, 161\n",
      "run_epoch: train: 100%|█| 782/782 [00:09<00:00, 857/100 [06:06<10:41, 10.19s/it]\n",
      "run_epoch: test: 100%|█| 157/157 [00:00<00:00, 165\n",
      "run_epoch: train: 100%|█| 782/782 [00:09<00:00, 868/100 [06:16<10:29, 10.16s/it]\n",
      "run_epoch: test: 100%|█| 157/157 [00:00<00:00, 162\n",
      "run_epoch: train: 100%|█| 782/782 [00:09<00:00, 869/100 [06:26<10:16, 10.11s/it]\n",
      "run_epoch: test: 100%|█| 157/157 [00:00<00:00, 162\n",
      "run_epoch: train: 100%|█| 782/782 [00:09<00:00, 850/100 [06:36<10:05, 10.09s/it]\n",
      "run_epoch: test: 100%|█| 157/157 [00:00<00:00, 166\n",
      "run_epoch: train: 100%|█| 782/782 [00:09<00:00, 851/100 [06:46<09:55, 10.10s/it]\n",
      "run_epoch: test: 100%|█| 157/157 [00:00<00:00, 160\n",
      "run_epoch: train: 100%|█| 782/782 [00:09<00:00, 852/100 [06:56<09:46, 10.11s/it]\n",
      "run_epoch: test: 100%|█| 157/157 [00:00<00:00, 163\n",
      "run_epoch: train: 100%|█| 782/782 [00:09<00:00, 853/100 [07:06<09:36, 10.11s/it]\n",
      "run_epoch: test: 100%|█| 157/157 [00:00<00:00, 164\n",
      "run_epoch: train: 100%|█| 782/782 [00:09<00:00, 844/100 [07:17<09:25, 10.10s/it]\n",
      "run_epoch: test: 100%|█| 157/157 [00:00<00:00, 167\n",
      "run_epoch: train: 100%|█| 782/782 [00:09<00:00, 845/100 [07:27<09:17, 10.13s/it]\n",
      "run_epoch: test: 100%|█| 157/157 [00:00<00:00, 166\n",
      "run_epoch: train: 100%|█| 782/782 [00:09<00:00, 846/100 [07:37<09:08, 10.15s/it]\n",
      "run_epoch: test: 100%|█| 157/157 [00:00<00:00, 159\n",
      "run_epoch: train: 100%|█| 782/782 [00:09<00:00, 857/100 [07:47<08:59, 10.18s/it]\n",
      "run_epoch: test: 100%|█| 157/157 [00:00<00:00, 163\n",
      "run_epoch: train: 100%|█| 782/782 [00:09<00:00, 848/100 [07:57<08:48, 10.17s/it]\n",
      "run_epoch: test: 100%|█| 157/157 [00:00<00:00, 165\n",
      "run_epoch: train: 100%|█| 782/782 [00:09<00:00, 849/100 [08:07<08:39, 10.18s/it]\n",
      "run_epoch: test: 100%|█| 157/157 [00:00<00:00, 159\n",
      "run_epoch: train: 100%|█| 782/782 [00:09<00:00, 850/100 [08:18<08:29, 10.18s/it]\n",
      "run_epoch: test: 100%|█| 157/157 [00:00<00:00, 158\n",
      "run_epoch: train: 100%|█| 782/782 [00:09<00:00, 851/100 [08:28<08:18, 10.16s/it]\n",
      "run_epoch: test: 100%|█| 157/157 [00:00<00:00, 160\n",
      "run_epoch: train: 100%|█| 782/782 [00:09<00:00, 832/100 [08:38<08:07, 10.15s/it]\n",
      "run_epoch: test: 100%|█| 157/157 [00:00<00:00, 159\n",
      "run_epoch: train: 100%|█| 782/782 [00:09<00:00, 853/100 [08:48<08:00, 10.22s/it]\n",
      "run_epoch: test: 100%|█| 157/157 [00:00<00:00, 162\n",
      "run_epoch: train: 100%|█| 782/782 [00:09<00:00, 824/100 [08:58<07:48, 10.19s/it]\n",
      "run_epoch: test: 100%|█| 157/157 [00:00<00:00, 160\n",
      "run_epoch: train: 100%|█| 782/782 [00:09<00:00, 835/100 [09:09<07:42, 10.27s/it]\n",
      "run_epoch: test: 100%|█| 157/157 [00:00<00:00, 157\n",
      "run_epoch: train: 100%|█| 782/782 [00:09<00:00, 836/100 [09:19<07:32, 10.29s/it]\n",
      "run_epoch: test: 100%|█| 157/157 [00:00<00:00, 162\n",
      "run_epoch: train: 100%|█| 782/782 [00:09<00:00, 847/100 [09:30<07:22, 10.30s/it]\n",
      "run_epoch: test: 100%|█| 157/157 [00:00<00:00, 166\n",
      "run_epoch: train: 100%|█| 782/782 [00:09<00:00, 838/100 [09:40<07:11, 10.27s/it]\n",
      "run_epoch: test: 100%|█| 157/157 [00:01<00:00, 156\n",
      "run_epoch: train: 100%|█| 782/782 [00:09<00:00, 839/100 [09:50<07:01, 10.29s/it]\n",
      "run_epoch: test: 100%|█| 157/157 [00:00<00:00, 161\n",
      "run_epoch: train: 100%|█| 782/782 [00:09<00:00, 810/100 [10:00<06:51, 10.30s/it]\n",
      "run_epoch: test: 100%|█| 157/157 [00:01<00:00, 130\n",
      "run_epoch: train: 100%|█| 782/782 [00:09<00:00, 841/100 [10:11<06:47, 10.44s/it]\n",
      "run_epoch: test: 100%|█| 157/157 [00:00<00:00, 161\n",
      "run_epoch: train: 100%|█| 782/782 [00:09<00:00, 832/100 [10:21<06:34, 10.39s/it]\n",
      "run_epoch: test: 100%|█| 157/157 [00:00<00:00, 162\n",
      "run_epoch: train: 100%|█| 782/782 [00:09<00:00, 853/100 [10:32<06:24, 10.38s/it]\n",
      "run_epoch: test: 100%|█| 157/157 [00:00<00:00, 160\n",
      "run_epoch: train: 100%|█| 782/782 [00:09<00:00, 844/100 [10:42<06:11, 10.31s/it]\n",
      "run_epoch: test: 100%|█| 157/157 [00:00<00:00, 160\n",
      "run_epoch: train: 100%|█| 782/782 [00:09<00:00, 845/100 [10:52<05:59, 10.28s/it]\n",
      "run_epoch: test: 100%|█| 157/157 [00:00<00:00, 158\n",
      "run_epoch: train: 100%|█| 782/782 [00:09<00:00, 836/100 [11:02<05:49, 10.27s/it]\n",
      "run_epoch: test: 100%|█| 157/157 [00:00<00:00, 161\n",
      "run_epoch: train: 100%|█| 782/782 [00:09<00:00, 827/100 [11:13<05:40, 10.31s/it]\n",
      "run_epoch: test: 100%|█| 157/157 [00:00<00:00, 158\n",
      "run_epoch: train: 100%|█| 782/782 [00:09<00:00, 848/100 [11:23<05:31, 10.35s/it]\n",
      "run_epoch: test: 100%|█| 157/157 [00:01<00:00, 117\n",
      "run_epoch: train: 100%|█| 782/782 [00:09<00:00, 799/100 [11:34<05:23, 10.43s/it]\n",
      "run_epoch: test: 100%|█| 157/157 [00:01<00:00, 143\n",
      "run_epoch: train: 100%|█| 782/782 [00:09<00:00, 830/100 [11:45<05:18, 10.60s/it]\n",
      "run_epoch: test: 100%|█| 157/157 [00:00<00:00, 160\n",
      "run_epoch: train: 100%|█| 782/782 [00:09<00:00, 821/100 [11:55<05:05, 10.52s/it]\n",
      "run_epoch: test: 100%|█| 157/157 [00:00<00:00, 164\n",
      "run_epoch: train: 100%|█| 782/782 [00:09<00:00, 832/100 [12:06<04:53, 10.49s/it]\n",
      "run_epoch: test: 100%|█| 157/157 [00:00<00:00, 157\n",
      "run_epoch: train: 100%|█| 782/782 [00:09<00:00, 843/100 [12:16<04:41, 10.44s/it]\n",
      "run_epoch: test: 100%|█| 157/157 [00:01<00:00, 154\n",
      "run_epoch: train: 100%|█| 782/782 [00:09<00:00, 824/100 [12:26<04:30, 10.40s/it]\n",
      "run_epoch: test: 100%|█| 157/157 [00:00<00:00, 160\n",
      "run_epoch: train: 100%|█| 782/782 [00:09<00:00, 835/100 [12:37<04:20, 10.41s/it]\n",
      "run_epoch: test: 100%|█| 157/157 [00:00<00:00, 166\n",
      "run_epoch: train: 100%|█| 782/782 [00:09<00:00, 836/100 [12:47<04:08, 10.37s/it]\n",
      "run_epoch: test: 100%|█| 157/157 [00:01<00:00, 153\n",
      "run_epoch: train: 100%|█| 782/782 [00:09<00:00, 837/100 [12:57<03:58, 10.37s/it]\n",
      "run_epoch: test: 100%|█| 157/157 [00:00<00:00, 162\n",
      "run_epoch: train: 100%|█| 782/782 [00:09<00:00, 828/100 [13:08<03:47, 10.34s/it]\n",
      "run_epoch: test: 100%|█| 157/157 [00:00<00:00, 158\n",
      "run_epoch: train: 100%|█| 782/782 [00:09<00:00, 829/100 [13:18<03:37, 10.38s/it]\n",
      "run_epoch: test: 100%|█| 157/157 [00:00<00:00, 166\n",
      "run_epoch: train: 100%|█| 782/782 [00:09<00:00, 820/100 [13:28<03:27, 10.39s/it]\n",
      "run_epoch: test: 100%|█| 157/157 [00:00<00:00, 161\n",
      "run_epoch: train: 100%|█| 782/782 [00:09<00:00, 831/100 [13:39<03:17, 10.41s/it]\n",
      "run_epoch: test: 100%|█| 157/157 [00:01<00:00, 156\n",
      "run_epoch: train: 100%|█| 782/782 [00:09<00:00, 842/100 [13:49<03:07, 10.42s/it]\n",
      "run_epoch: test: 100%|█| 157/157 [00:00<00:00, 164\n",
      "run_epoch: train: 100%|█| 782/782 [00:09<00:00, 833/100 [14:00<02:56, 10.37s/it]\n",
      "run_epoch: test: 100%|█| 157/157 [00:01<00:00, 153\n",
      "run_epoch: train: 100%|█| 782/782 [00:09<00:00, 834/100 [14:10<02:45, 10.36s/it]\n",
      "run_epoch: test: 100%|█| 157/157 [00:01<00:00, 152\n",
      "run_epoch: train: 100%|█| 782/782 [00:09<00:00, 835/100 [14:20<02:35, 10.38s/it]\n",
      "run_epoch: test: 100%|█| 157/157 [00:00<00:00, 165\n",
      "run_epoch: train: 100%|█| 782/782 [00:09<00:00, 816/100 [14:31<02:25, 10.37s/it]\n",
      "run_epoch: test: 100%|█| 157/157 [00:00<00:00, 160\n",
      "run_epoch: train: 100%|█| 782/782 [00:09<00:00, 837/100 [14:41<02:15, 10.44s/it]\n",
      "run_epoch: test: 100%|█| 157/157 [00:00<00:00, 165\n",
      "run_epoch: train: 100%|█| 782/782 [00:09<00:00, 838/100 [14:52<02:04, 10.41s/it]\n",
      "run_epoch: test: 100%|█| 157/157 [00:00<00:00, 161\n",
      "run_epoch: train: 100%|█| 782/782 [00:09<00:00, 839/100 [15:02<01:54, 10.39s/it]\n",
      "run_epoch: test: 100%|█| 157/157 [00:00<00:00, 157\n",
      "run_epoch: train: 100%|█| 782/782 [00:09<00:00, 830/100 [15:12<01:43, 10.37s/it]\n",
      "run_epoch: test: 100%|█| 157/157 [00:00<00:00, 159\n",
      "run_epoch: train: 100%|█| 782/782 [00:09<00:00, 831/100 [15:23<01:33, 10.35s/it]\n",
      "run_epoch: test: 100%|█| 157/157 [00:00<00:00, 158\n",
      "run_epoch: train: 100%|█| 782/782 [00:09<00:00, 832/100 [15:33<01:22, 10.37s/it]\n",
      "run_epoch: test: 100%|█| 157/157 [00:00<00:00, 164\n",
      "run_epoch: train: 100%|█| 782/782 [00:09<00:00, 823/100 [15:43<01:12, 10.34s/it]\n",
      "run_epoch: test: 100%|█| 157/157 [00:00<00:00, 161\n",
      "run_epoch: train: 100%|█| 782/782 [00:09<00:00, 834/100 [15:54<01:02, 10.38s/it]\n",
      "run_epoch: test: 100%|█| 157/157 [00:00<00:00, 163\n",
      "run_epoch: train: 100%|█| 782/782 [00:09<00:00, 825/100 [16:04<00:51, 10.35s/it]\n",
      "run_epoch: test: 100%|█| 157/157 [00:00<00:00, 161\n",
      "run_epoch: train: 100%|█| 782/782 [00:09<00:00, 836/100 [16:15<00:41, 10.40s/it]\n",
      "run_epoch: test: 100%|█| 157/157 [00:01<00:00, 156\n",
      "run_epoch: train: 100%|█| 782/782 [00:09<00:00, 827/100 [16:25<00:31, 10.39s/it]\n",
      "run_epoch: test: 100%|█| 157/157 [00:00<00:00, 162\n",
      "run_epoch: train: 100%|█| 782/782 [00:09<00:00, 838/100 [16:35<00:20, 10.40s/it]\n",
      "run_epoch: test: 100%|█| 157/157 [00:01<00:00, 156\n",
      "run_epoch: train: 100%|█| 782/782 [00:09<00:00, 829/100 [16:46<00:10, 10.38s/it]\n",
      "run_epoch: test: 100%|█| 157/157 [00:00<00:00, 157\n",
      "run_exp: 100%|████████████████████████████████| 100/100 [16:56<00:00, 10.17s/it]\n"
     ]
    }
   ],
   "source": [
    "from src.common.utils import AttrDict\n",
    "\n",
    "EXP_NAME = 'cifar_10_mlp_ferloss'\n",
    "\n",
    "config = {\n",
    "    'epoch_start_at': 0,\n",
    "    'epoch_end_at': EPOCHS,\n",
    "    'grad_accum_steps': GRAD_ACCUM_STEPS,\n",
    "    'save_multi': T_max // 10,\n",
    "    'log_multi': 100,\n",
    "    'whether_clip': False,\n",
    "    'clip_value': 2.0,\n",
    "    'base_path': 'reports',\n",
    "    'exp_name': EXP_NAME,\n",
    "    'logger_name': 'tensorboard',\n",
    "    'logger_config': {'api_token': \"07a2cd842a6d792d578f8e6c0978efeb8dcf7638\", 'project': 'early_exit', 'hyperparameters': {}},\n",
    "    'random_seed': 42,\n",
    "    'device': device\n",
    "\n",
    "}\n",
    "config = AttrDict(config)\n",
    "\n",
    "trainer.run_exp(config)"
   ]
  },
  {
   "cell_type": "code",
   "execution_count": null,
   "id": "034c2348-ae7e-4f20-af9b-089714990ff1",
   "metadata": {},
   "outputs": [],
   "source": []
  },
  {
   "cell_type": "code",
   "execution_count": null,
   "id": "e67fa6d9-0e4a-4a43-bd00-bafdaeff1f14",
   "metadata": {},
   "outputs": [],
   "source": [
    "y_true = torch.randint(0, 10, (5,1)).to(device).squeeze()\n",
    "y_pred = model(torch.randn(5, 3, 32, 32).to(device))"
   ]
  },
  {
   "cell_type": "code",
   "execution_count": null,
   "id": "ac95c13b-e1d7-4fbd-8127-a51a473a0c90",
   "metadata": {},
   "outputs": [],
   "source": [
    "criterion1 = ClassificationLoss(LOSS_NAME_MAP['ce']())\n",
    "criterion2 = ClassificationLoss(LOSS_NAME_MAP['ce']())"
   ]
  },
  {
   "cell_type": "code",
   "execution_count": null,
   "id": "efb58890-9dd7-4b0f-a6dc-0037fbd4332d",
   "metadata": {},
   "outputs": [],
   "source": [
    "# y_pred = model(torch.randn(5, 3, 32, 32).to(device))\n",
    "loss, _ = criterion1(y_pred, y_true)\n",
    "loss.backward(retain_graph=True)\n",
    "optim.zero_grad()\n"
   ]
  },
  {
   "cell_type": "code",
   "execution_count": null,
   "id": "0f4cc9e4-dbfc-458e-b234-f1d4bf569a8d",
   "metadata": {},
   "outputs": [],
   "source": [
    "loss, _ = criterion2(y_pred, y_true)\n",
    "loss.backward()"
   ]
  },
  {
   "cell_type": "code",
   "execution_count": null,
   "id": "af16db60-856f-418e-9a52-5c5f9e6650ab",
   "metadata": {},
   "outputs": [],
   "source": []
  }
 ],
 "metadata": {
  "kernelspec": {
   "display_name": "pfee",
   "language": "python",
   "name": "pfee"
  },
  "language_info": {
   "codemirror_mode": {
    "name": "ipython",
    "version": 3
   },
   "file_extension": ".py",
   "mimetype": "text/x-python",
   "name": "python",
   "nbconvert_exporter": "python",
   "pygments_lexer": "ipython3",
   "version": "3.10.6"
  }
 },
 "nbformat": 4,
 "nbformat_minor": 5
}
